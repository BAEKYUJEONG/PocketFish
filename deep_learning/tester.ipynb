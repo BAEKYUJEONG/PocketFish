{
 "cells": [
  {
   "cell_type": "code",
   "execution_count": 1,
   "id": "south-carbon",
   "metadata": {},
   "outputs": [],
   "source": [
    "import numpy as np\n",
    "from PIL import Image\n",
    "from keras.models import load_model\n",
    "import tensorflow as tf"
   ]
  },
  {
   "cell_type": "code",
   "execution_count": 2,
   "id": "essential-citizenship",
   "metadata": {},
   "outputs": [],
   "source": [
    "from tensorflow.compat.v1 import ConfigProto\n",
    "from tensorflow.compat.v1 import InteractiveSession\n",
    "\n",
    "config = ConfigProto()\n",
    "config.gpu_options.allow_growth = True\n",
    "session = InteractiveSession(config=config)"
   ]
  },
  {
   "cell_type": "code",
   "execution_count": 3,
   "id": "fifth-tolerance",
   "metadata": {},
   "outputs": [],
   "source": [
    "class_names = ['catfish_메기', 'crucian carp_붕어', 'flatfish_광어', 'golden mandarin fish_쏘가리', 'red snapper_참돔', 'rockfish_우럭']"
   ]
  },
  {
   "cell_type": "code",
   "execution_count": 4,
   "id": "painful-trinity",
   "metadata": {},
   "outputs": [],
   "source": [
    "model_path = \"./improved_model4.h5\"\n",
    "\n",
    "\n",
    "img_height = 112\n",
    "img_width = 112"
   ]
  },
  {
   "cell_type": "code",
   "execution_count": 5,
   "id": "executed-investing",
   "metadata": {},
   "outputs": [],
   "source": [
    "def Dataization(image_path, img_w, img_h):\n",
    "    img = Image.open(image_path)\n",
    "    img = img.convert(\"RGB\")\n",
    "    img = img.resize((img_w, img_h))\n",
    "    img_data = np.asarray(img)\n",
    "    return img_data/255"
   ]
  },
  {
   "cell_type": "code",
   "execution_count": 6,
   "id": "curious-oliver",
   "metadata": {},
   "outputs": [],
   "source": [
    "image_path = \"./test_data/ssogari2.jpg\""
   ]
  },
  {
   "cell_type": "code",
   "execution_count": 7,
   "id": "direct-bleeding",
   "metadata": {},
   "outputs": [],
   "source": [
    "pred_data = [Dataization(image_path, img_width, img_height)]\n",
    "pred_data = np.array(pred_data)"
   ]
  },
  {
   "cell_type": "code",
   "execution_count": 8,
   "id": "several-burning",
   "metadata": {},
   "outputs": [
    {
     "name": "stdout",
     "output_type": "stream",
     "text": [
      "prediction result: [99.9723494052887, 0.022239264217205346, 1.5337971170925613e-08, 0.005413953113020398, 1.07441584518142e-06, 4.33132285593274e-07]\n",
      "99.97%\n",
      "이 사진은 <catfish_메기>의 사진으로 추정됩니다.\n"
     ]
    }
   ],
   "source": [
    "# # Load Model (.h5 file)\n",
    "pred_model = load_model(model_path)\n",
    "\n",
    "# # Predict and Save Result\n",
    "pred_result = pred_model.predict(pred_data)[0]\n",
    "pred_result = list(pred_result)\n",
    "cls_idx = pred_result.index(max(pred_result))\n",
    "\n",
    "result_percentage = [p*100 for p in pred_result]\n",
    "\n",
    "print(f\"prediction result: {result_percentage}\")\n",
    "print(f\"{max(pred_result)*100:.2f}%\")\n",
    "print(\"이 사진은 <\" + class_names[cls_idx] + \">의 사진으로 추정됩니다.\")"
   ]
  }
 ],
 "metadata": {
  "kernelspec": {
   "display_name": "Python 3",
   "language": "python",
   "name": "python3"
  },
  "language_info": {
   "codemirror_mode": {
    "name": "ipython",
    "version": 3
   },
   "file_extension": ".py",
   "mimetype": "text/x-python",
   "name": "python",
   "nbconvert_exporter": "python",
   "pygments_lexer": "ipython3",
   "version": "3.7.10"
  }
 },
 "nbformat": 4,
 "nbformat_minor": 5
}
