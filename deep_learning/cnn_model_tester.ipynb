{
 "cells": [
  {
   "cell_type": "code",
   "execution_count": 1,
   "id": "infrared-pottery",
   "metadata": {},
   "outputs": [],
   "source": [
    "import numpy as np\n",
    "from PIL import Image\n",
    "from keras.models import load_model\n",
    "import tensorflow as tf"
   ]
  },
  {
   "cell_type": "code",
   "execution_count": 2,
   "id": "large-trinity",
   "metadata": {},
   "outputs": [],
   "source": [
    "from tensorflow.compat.v1 import ConfigProto\n",
    "from tensorflow.compat.v1 import InteractiveSession\n",
    "\n",
    "config = ConfigProto()\n",
    "config.gpu_options.allow_growth = True\n",
    "session = InteractiveSession(config=config)"
   ]
  },
  {
   "cell_type": "code",
   "execution_count": 3,
   "id": "convinced-toilet",
   "metadata": {},
   "outputs": [],
   "source": [
    "fish_types = ['crucian_carp', 'rockfish', 'mandarin', 'red_snapper', 'flatfish']"
   ]
  },
  {
   "cell_type": "code",
   "execution_count": 4,
   "id": "overall-museum",
   "metadata": {},
   "outputs": [],
   "source": [
    "model_original = \"./augmented_model_with_originals.h5\"\n",
    "model_nobg = \"./augmented_model_without_bg.h5\"\n",
    "\n",
    "img_height = 112\n",
    "img_width = 112"
   ]
  },
  {
   "cell_type": "code",
   "execution_count": 5,
   "id": "suburban-edmonton",
   "metadata": {},
   "outputs": [],
   "source": [
    "def Dataization(image_path, img_w, img_h):\n",
    "    img = Image.open(image_path)\n",
    "    img = img.convert(\"RGB\")\n",
    "    img = img.resize((img_w, img_h))\n",
    "    img_data = np.asarray(img)\n",
    "    return img_data/255"
   ]
  },
  {
   "cell_type": "code",
   "execution_count": 6,
   "id": "surprising-validation",
   "metadata": {},
   "outputs": [],
   "source": [
    "image_path = \"./test_data/gwan3.jpg\""
   ]
  },
  {
   "cell_type": "code",
   "execution_count": 7,
   "id": "infrared-logging",
   "metadata": {},
   "outputs": [],
   "source": [
    "pred_data = [Dataization(image_path, img_width, img_height)]\n",
    "pred_data = np.array(pred_data)"
   ]
  },
  {
   "cell_type": "code",
   "execution_count": 8,
   "id": "velvet-nudist",
   "metadata": {},
   "outputs": [],
   "source": [
    "# load both models\n",
    "prediction1 = load_model(model_original)\n",
    "prediction2 = load_model(model_nobg)\n",
    "\n",
    "# predict\n",
    "result1 = prediction1.predict(pred_data)[0]\n",
    "result1 = list(result1)\n",
    "result2 = prediction2.predict(pred_data)[0]\n",
    "result2 = list(result2)\n",
    "\n",
    "avg_result = []\n",
    "# average of prediction\n",
    "for i in range(len(fish_types)):\n",
    "    avg_result.append(((result1[i] + result2[i])/2)*100)\n",
    "\n",
    "idx = avg_result.index(max(avg_result))"
   ]
  },
  {
   "cell_type": "code",
   "execution_count": 9,
   "id": "outside-brief",
   "metadata": {},
   "outputs": [
    {
     "name": "stdout",
     "output_type": "stream",
     "text": [
      "['crucian_carp', 'rockfish', 'mandarin', 'red_snapper', 'flatfish']\n",
      "original:  [1.3087951833412603e-07, 1.549905626063719e-06, 2.5471857956205213e-07, 3.1111795806282316e-06, 100.0]\n",
      "no backg:  [0.0, 99.99938011169434, 1.2973661478201508e-19, 0.0, 0.0006143570772110252]\n",
      "\n",
      "average :  [6.543975916706302e-08, 49.99969005584717, 1.2735928978102606e-07, 1.5555897903141158e-06, 50.00030994415283]\n",
      "\n",
      "이 사진은 <flatfish>의 사진으로 추정됩니다.\n"
     ]
    }
   ],
   "source": [
    "print(fish_types)\n",
    "print('original: ', [i * 100 for i in result1])\n",
    "print('no backg: ', [i * 100 for i in result2])\n",
    "print()\n",
    "print('average : ', avg_result)\n",
    "print()\n",
    "print(\"이 사진은 <\" + fish_types[idx] + \">의 사진으로 추정됩니다.\")"
   ]
  }
 ],
 "metadata": {
  "kernelspec": {
   "display_name": "Python 3",
   "language": "python",
   "name": "python3"
  },
  "language_info": {
   "codemirror_mode": {
    "name": "ipython",
    "version": 3
   },
   "file_extension": ".py",
   "mimetype": "text/x-python",
   "name": "python",
   "nbconvert_exporter": "python",
   "pygments_lexer": "ipython3",
   "version": "3.7.10"
  }
 },
 "nbformat": 4,
 "nbformat_minor": 5
}
