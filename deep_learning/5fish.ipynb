{
 "cells": [
  {
   "cell_type": "code",
   "execution_count": null,
   "metadata": {},
   "outputs": [],
   "source": [
    "# Keras 2.3.1, tensorflow 2.0 환경에서\n",
    "# AttributeError: '_thread._local' object has no attribute 'value' 발생하면\n",
    "# Keras 2.3.0 이후 버전은 2.2.5 버전으로 재설치 or app.run(threaded=False)으로 해결\n",
    "\n",
    "# Keras 2.2.5를 사용하려면 tensorflow 1.14 버전으로 재설치 해야되고\n",
    "# 아래와 같은 이슈가 발생하며\n",
    "# AttributeError: '_thread._local' object has no attribute 'value'\n",
    "# model을 로드하고 model._make_predict_function() 추가하여 해결"
   ]
  },
  {
   "cell_type": "code",
   "execution_count": 1,
   "metadata": {},
   "outputs": [
    {
     "name": "stderr",
     "output_type": "stream",
     "text": [
      "Using TensorFlow backend.\n"
     ]
    },
    {
     "name": "stdout",
     "output_type": "stream",
     "text": [
      "X_train shape: (252, 64, 64, 3)\n"
     ]
    },
    {
     "name": "stderr",
     "output_type": "stream",
     "text": [
      "C:\\Users\\SkeldTcan\\anaconda3\\envs\\hong\\lib\\site-packages\\ipykernel_launcher.py:31: UserWarning: Update your `Conv2D` call to the Keras 2 API: `Conv2D(32, (3, 3), input_shape=(64, 64, 3..., padding=\"same\")`\n"
     ]
    },
    {
     "name": "stdout",
     "output_type": "stream",
     "text": [
      "hdf5_file loaded\n"
     ]
    },
    {
     "name": "stderr",
     "output_type": "stream",
     "text": [
      "C:\\Users\\SkeldTcan\\anaconda3\\envs\\hong\\lib\\site-packages\\ipykernel_launcher.py:36: UserWarning: Update your `Conv2D` call to the Keras 2 API: `Conv2D(64, (3, 3), padding=\"same\")`\n",
      "C:\\Users\\SkeldTcan\\anaconda3\\envs\\hong\\lib\\site-packages\\ipykernel_launcher.py:38: UserWarning: Update your `Conv2D` call to the Keras 2 API: `Conv2D(64, (3, 3))`\n"
     ]
    }
   ],
   "source": [
    "from flask import Flask, jsonify, request\n",
    "from keras.models import Sequential\n",
    "from keras.layers import Convolution2D, MaxPooling2D\n",
    "from keras.layers import Activation, Dropout, Flatten, Dense\n",
    "import h5py\n",
    "from PIL import Image\n",
    "import numpy as np\n",
    "import collections \n",
    "import io\n",
    "import os\n",
    "import glob\n",
    "import json\n",
    "\n",
    "# 카테고리 지정하기\n",
    "categories = [x.split('\\\\')[1] for x in glob.glob(\"./image/new/*\")]\n",
    "nb_classes = len(categories)\n",
    "# 이미지 크기 지정하기\n",
    "image_w = 64 \n",
    "image_h = 64\n",
    "#np.load에 allow_pikle 추가\n",
    "np_load_old = np.load\n",
    "np.load = lambda *a,**k: np_load_old(*a, allow_pickle=True, **k)\n",
    "# 데이터 불러오기 --- (※1)\n",
    "X_train, X_test, y_train, y_test = np.load(\"./image/fish.npy\")\n",
    "# 데이터 정규화하기\n",
    "X_train = X_train.astype(\"float\") / 256\n",
    "X_test  = X_test.astype(\"float\")  / 256\n",
    "print('X_train shape:', X_train.shape)\n",
    "# 모델 구축하기 --- (※2)\n",
    "model = Sequential()\n",
    "model.add(Convolution2D(32, 3, 3, border_mode='same', input_shape=X_train.shape[1:]))\n",
    "model.add(Activation('relu'))\n",
    "model.add(MaxPooling2D(pool_size=(2, 2)))\n",
    "model.add(Dropout(0.25))\n",
    "\n",
    "model.add(Convolution2D(64, 3, 3, border_mode='same'))\n",
    "model.add(Activation('relu'))\n",
    "model.add(Convolution2D(64, 3, 3))\n",
    "model.add(MaxPooling2D(pool_size=(2, 2)))\n",
    "model.add(Dropout(0.25))\n",
    "\n",
    "model.add(Flatten()) # --- (※3) \n",
    "model.add(Dense(512))\n",
    "model.add(Activation('relu'))\n",
    "model.add(Dropout(0.5))\n",
    "model.add(Dense(nb_classes))\n",
    "#model.add(Activation('softmax'))\n",
    "\n",
    "model.compile(loss='binary_crossentropy',\n",
    "    optimizer='rmsprop',\n",
    "    metrics=['accuracy'])\n",
    "\n",
    "# 모델 훈련하기 --- (※4)\n",
    "hdf5_file = \"./image/fish-model.hdf5\"\n",
    "if os.path.exists(hdf5_file):\n",
    "    model.load_weights(hdf5_file)\n",
    "    print(\"hdf5_file loaded\")\n",
    "else:\n",
    "    model.fit(X_train, y_train, batch_size=32, epochs=50)\n",
    "    model.save_weights(hdf5_file)\n",
    "    \n",
    "# AttributeError: '_thread._local' object has no attribute 'value' 해결용\n",
    "# model._make_predict_function()"
   ]
  },
  {
   "cell_type": "code",
   "execution_count": 2,
   "metadata": {},
   "outputs": [],
   "source": [
    "# 이미지를 읽어 결과를 반환하는 함수\n",
    "def get_prediction(image_bytes):\n",
    "    # 이미지 저장\n",
    "    image = Image.open(io.BytesIO(image_bytes))\n",
    "\n",
    "    X = []    \n",
    "    img = image.convert(\"RGB\")\n",
    "    img = img.resize((image_w, image_h))\n",
    "    data = np.asarray(img)\n",
    "    X.append(data)\n",
    "    X = np.array(X)\n",
    "    y = model.predict(X)\n",
    "    \n",
    "    # 물고기별 확률 계산\n",
    "    total = 0\n",
    "    for i in y[0]:\n",
    "        if i>0:\n",
    "            total += i\n",
    "\n",
    "    # 딕셔너리로 저장\n",
    "    fish = collections.OrderedDict()\n",
    "    for k, v in zip(categories, y[0]):\n",
    "        if v>0:\n",
    "            fish[k] = v/total\n",
    "        else:\n",
    "            fish[k] = 0\n",
    "    fish = collections.OrderedDict(sorted(fish.items(), key=lambda x: -x[1]))\n",
    "    return fish\n",
    "\n",
    "app = Flask(__name__)\n",
    "\n",
    "@app.route('/', methods=['POST'])\n",
    "def predict():\n",
    "    if request.method == 'POST':\n",
    "        # 이미지 바이트 데이터 받아오기\n",
    "        file = request.files['file']\n",
    "        image_bytes = file.read()\n",
    "\n",
    "        # 분류 결과 확인 및 클라이언트에게 결과 반환\n",
    "        class_name = get_prediction(image_bytes=image_bytes)\n",
    "        \n",
    "        result = \"{\"\n",
    "        for k, v in class_name.items():\n",
    "            if v == 0:\n",
    "                break\n",
    "            result += f\"'{k}':{v*100:.3f},\"\n",
    "        result = result[:-1] + \"}\"\n",
    "        \n",
    "        print(class_name)\n",
    "        print(result)\n",
    "        return json.dumps(result)"
   ]
  },
  {
   "cell_type": "code",
   "execution_count": null,
   "metadata": {},
   "outputs": [
    {
     "name": "stdout",
     "output_type": "stream",
     "text": [
      " * Serving Flask app \"__main__\" (lazy loading)\n",
      " * Environment: production\n",
      "   WARNING: This is a development server. Do not use it in a production deployment.\n",
      "   Use a production WSGI server instead.\n",
      " * Debug mode: off\n"
     ]
    },
    {
     "name": "stderr",
     "output_type": "stream",
     "text": [
      " * Running on http://0.0.0.0:5000/ (Press CTRL+C to quit)\n",
      "192.168.0.1 - - [25/Mar/2021 13:47:36] \"\u001b[37mPOST / HTTP/1.1\u001b[0m\" 200 -\n"
     ]
    },
    {
     "name": "stdout",
     "output_type": "stream",
     "text": [
      "OrderedDict([('golden mandarin fish', 0.622569933420389), ('catfish', 0.1854796785731574), ('red sanpper', 0.09607049686347378), ('carpfish', 0.09587989114297979), ('flatfish', 0)])\n",
      "{'golden mandarin fish':62.257,'catfish':18.548,'red sanpper':9.607,'carpfish':9.588}\n"
     ]
    }
   ],
   "source": [
    "# 모든 호스트에 대해 접속 허용\n",
    "app.run(threaded=False, host='0.0.0.0')"
   ]
  },
  {
   "cell_type": "code",
   "execution_count": null,
   "metadata": {},
   "outputs": [],
   "source": []
  }
 ],
 "metadata": {
  "kernelspec": {
   "display_name": "hong",
   "language": "python",
   "name": "hong"
  },
  "language_info": {
   "codemirror_mode": {
    "name": "ipython",
    "version": 3
   },
   "file_extension": ".py",
   "mimetype": "text/x-python",
   "name": "python",
   "nbconvert_exporter": "python",
   "pygments_lexer": "ipython3",
   "version": "3.7.9"
  }
 },
 "nbformat": 4,
 "nbformat_minor": 4
}
